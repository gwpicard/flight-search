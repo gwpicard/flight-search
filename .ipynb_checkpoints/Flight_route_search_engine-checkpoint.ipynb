{
 "cells": [
  {
   "cell_type": "markdown",
   "metadata": {},
   "source": [
    "# Flight Route Search Engine\n",
    "\n",
    "A basic flight search engine using data from [OpenFlights](https://openflights.org/) using custom built hash tables.\n",
    "\n",
    "---\n",
    "## Import Dependencies"
   ]
  },
  {
   "cell_type": "code",
   "execution_count": 1,
   "metadata": {},
   "outputs": [],
   "source": [
    "import mmh3\n",
    "import pandas as pd\n",
    "from tqdm import trange, tqdm_notebook\n",
    "import numpy as np\n",
    "from IPython.display import display, HTML"
   ]
  },
  {
   "cell_type": "markdown",
   "metadata": {},
   "source": [
    "## Import and clean raw data"
   ]
  },
  {
   "cell_type": "code",
   "execution_count": 2,
   "metadata": {},
   "outputs": [],
   "source": [
    "# import airport data\n",
    "raw_airports = pd.read_csv('airports.dat.txt',index_col=0,header=None)\n",
    "raw_airports.columns=[\"Name\",\"City\",\"Country\",\"IATA/FAA\",\"ICAO\",\"Latitude\",\"Longitude\",\"Altitude\",\"Timezone\",\"DST\",\"Tz database time zone\"]\n",
    "raw_airports.index.name = \"Airport ID\"\n",
    "# remove null values\n",
    "raw_airports = raw_airports[raw_airports[\"IATA/FAA\"].isnull() == False]\n",
    "\n",
    "# import airline data\n",
    "raw_airlines = pd.read_csv('airlines.dat.txt',index_col=0,header=None)\n",
    "raw_airlines.columns=[\"Airline\",\"Alias\",\"IATA\",\"ICAO\",\"Callsign\",\"Country\",\"Active\"]\n",
    "raw_airlines.index.name = \"Airline ID\"\n",
    "\n",
    "# import route data\n",
    "raw_routes = pd.read_csv('routes.dat.txt',header=None)\n",
    "raw_routes.columns=[\"Airline\",\"Airline ID\",\"Source airport\",\"Source airport ID\",\"Destination airport\",\"Destination airport ID\",\"Codeshare\",\"Stops\",\"Equipment\"]\n",
    "# remove N/a values\n",
    "raw_routes = raw_routes[raw_routes[\"Airline ID\"] != r'\\N']\n",
    "# only include active routes\n",
    "raw_routes[\"Active\"] = pd.DataFrame(raw_airlines[\"Active\"][pd.to_numeric(raw_routes[\"Airline ID\"])].values,index=raw_routes.index)\n",
    "raw_routes = raw_routes[raw_routes[\"Active\"] == 'Y'] #Only include routes with active airlines"
   ]
  },
  {
   "cell_type": "code",
   "execution_count": 3,
   "metadata": {},
   "outputs": [],
   "source": [
    "#Hash Table for Airport and Route search\n",
    "class HashTable:\n",
    "    \n",
    "    #init parameters \n",
    "    def __init__(self, size):\n",
    "        #size\n",
    "        self.size = size\n",
    "        #genereate empty array of size m\n",
    "        self.keys = [0]*size\n",
    "        #genereate empty array of size m\n",
    "        self.data = [[] for i in range(size)]\n",
    "    \n",
    "    #add element method\n",
    "    def add(self,elem,data):\n",
    "        #change seed if rehashing needed\n",
    "        i=1\n",
    "        key = mmh3.hash64(elem,i)[0]\n",
    "        while not(self.keys[key%self.size] == elem or self.keys[key%self.size] == 0):\n",
    "            i+=1\n",
    "            key = mmh3.hash64(elem,i)[0] \n",
    "        self.keys[key%self.size] = elem\n",
    "        self.data[key%self.size].append(data)\n",
    "        \n",
    "    #search element method\n",
    "    def search(self,elem):\n",
    "        i=1\n",
    "        key = mmh3.hash64(elem,i)[0]\n",
    "        while not(self.keys[key%self.size] == elem or self.keys[key%self.size] == 0):\n",
    "            i+=1\n",
    "            key = mmh3.hash64(elem,i)[0]\n",
    "        pos = key%self.size\n",
    "        if self.keys[pos] == elem:\n",
    "            return self.data[pos]\n",
    "        else:\n",
    "            return \"no result\" \n",
    "    \n",
    "    def __getitem__(self,elem):\n",
    "        return self.search(elem)"
   ]
  },
  {
   "cell_type": "code",
   "execution_count": 4,
   "metadata": {
    "scrolled": false
   },
   "outputs": [
    {
     "data": {
      "application/vnd.jupyter.widget-view+json": {
       "model_id": "f38f524a54d14e7fa9acbc5caefeaf9d"
      }
     },
     "metadata": {},
     "output_type": "display_data"
    },
    {
     "name": "stdout",
     "output_type": "stream",
     "text": [
      "\n"
     ]
    },
    {
     "data": {
      "application/vnd.jupyter.widget-view+json": {
       "model_id": "ee5b4285a6e04c69be13f1628e440f87"
      }
     },
     "metadata": {},
     "output_type": "display_data"
    },
    {
     "name": "stdout",
     "output_type": "stream",
     "text": [
      "\n"
     ]
    }
   ],
   "source": [
    "airport_table = HashTable(20000)\n",
    "route_table = HashTable(20000)\n",
    "\n",
    "#Build routes hash table for searching\n",
    "for i in tqdm_notebook(raw_routes.index):\n",
    "    route_table.add(raw_routes[\"Source airport ID\"][i], [raw_airlines[\"Airline\"][int(raw_routes[\"Airline ID\"][i])], raw_routes[\"Source airport\"][i],raw_routes[\"Source airport ID\"][i],raw_routes[\"Destination airport\"][i], raw_routes[\"Destination airport ID\"][i]])\n",
    "    \n",
    "#Build final list of cities for refining search\n",
    "cities = set()\n",
    "\n",
    "#Build airport hash table for searching\n",
    "for i in tqdm_notebook(raw_airports.index):\n",
    "    #Only include airports with active routes\n",
    "    if route_table[str(i)] != 'no result':\n",
    "        cities.add(raw_airports[\"City\"][i])\n",
    "        airport_table.add(raw_airports[\"City\"][i], i)"
   ]
  },
  {
   "cell_type": "code",
   "execution_count": 5,
   "metadata": {
    "scrolled": false
   },
   "outputs": [],
   "source": [
    "#Search functions\n",
    "\n",
    "##basic\n",
    "def list_airports(city):\n",
    "    try:\n",
    "        return airport_table.search(city)\n",
    "    except:\n",
    "        return \"no result\"\n",
    "\n",
    "def list_routes(ID):\n",
    "    try:\n",
    "        return route_table.search(str(ID))\n",
    "    except:\n",
    "        return \"no result\"\n",
    "\n",
    "###linked search for routes in city\n",
    "def list_routes_in_city(city):\n",
    "    try:\n",
    "        airports = list_airports(city)\n",
    "        routes = []\n",
    "        for a in airports:\n",
    "            routes.append(list_routes(a))\n",
    "        return routes\n",
    "    except:\n",
    "        return \"no result\"\n",
    "    \n",
    "###basic search\n",
    "def basic_search(city1, city2):\n",
    "    try:\n",
    "        airports1 = list_airports(city1)\n",
    "        airports2 = list_airports(city2)\n",
    "        routes = []\n",
    "        for a in airports1:\n",
    "            for r in list_routes(a):\n",
    "                if int(r[4]) in airports2:\n",
    "                    routes.append(r)\n",
    "        return routes\n",
    "    except:\n",
    "        return \"no result\"\n",
    "    \n",
    "    \n",
    "###fancy search\n",
    "def fancy_search(city1, city2):\n",
    "    results = pd.DataFrame(columns=[\"Airline\", \"Departure\",\"Arrival\"])\n",
    "    \n",
    "    try:\n",
    "        airports1 = list_airports(city1)\n",
    "        airports2 = list_airports(city2)\n",
    "\n",
    "        routes = []\n",
    "        for a in airports1:\n",
    "            for r in list_routes(a):\n",
    "                if int(r[4]) in airports2:\n",
    "                    routes.append([r[0], r[1],r[3]])\n",
    "\n",
    "        #if no routes are found\n",
    "        if len(routes) < 1:\n",
    "            results = pd.concat([results,pd.DataFrame([[\"No results\",\"---\",\"---\"]],columns=[\"Airline\", \"Departure\",\"Arrival\"])])\n",
    "            return fancy_print(results)\n",
    "\n",
    "        results = pd.concat([results,pd.DataFrame(routes,columns=[\"Airline\", \"Departure\",\"Arrival\"])])\n",
    "\n",
    "        return fancy_print(results)\n",
    "    except:\n",
    "        results = pd.concat([results,pd.DataFrame([[\"Invalid Search\",\"---\",\"---\"]],columns=[\"Airline\", \"Departure\",\"Arrival\"])])\n",
    "        return fancy_print(results)\n",
    "\n",
    "######\n",
    "\n",
    "def fancy_print(TOPRINT,Index=False):\n",
    "    return display(HTML(TOPRINT.to_html(index=Index)))\n",
    "\n",
    "########\n",
    "\n",
    "#Suggest cities from list\n",
    "def suggest(letters):\n",
    "    suggested = []\n",
    "    for i in cities:\n",
    "        if set(letters) & set(i) and letters in i:\n",
    "            suggested.append(i)\n",
    "    return suggested"
   ]
  },
  {
   "cell_type": "code",
   "execution_count": 6,
   "metadata": {},
   "outputs": [
    {
     "name": "stdout",
     "output_type": "stream",
     "text": [
      "Please Enter Departure City: Gla\n"
     ]
    },
    {
     "data": {
      "text/html": [
       "<table border=\"1\" class=\"dataframe\">\n",
       "  <thead>\n",
       "    <tr style=\"text-align: right;\">\n",
       "      <th></th>\n",
       "      <th>Confirm your Departure City</th>\n",
       "    </tr>\n",
       "  </thead>\n",
       "  <tbody>\n",
       "    <tr>\n",
       "      <th>0</th>\n",
       "      <td>Gladstone</td>\n",
       "    </tr>\n",
       "    <tr>\n",
       "      <th>1</th>\n",
       "      <td>Glasgow</td>\n",
       "    </tr>\n",
       "  </tbody>\n",
       "</table>"
      ],
      "text/plain": [
       "<IPython.core.display.HTML object>"
      ]
     },
     "metadata": {},
     "output_type": "display_data"
    },
    {
     "name": "stdout",
     "output_type": "stream",
     "text": [
      "Confirm the number of your Departure City: 1\n",
      "\n",
      "\n",
      "\n",
      "Please Enter Destination City: Lon\n"
     ]
    },
    {
     "data": {
      "text/html": [
       "<table border=\"1\" class=\"dataframe\">\n",
       "  <thead>\n",
       "    <tr style=\"text-align: right;\">\n",
       "      <th></th>\n",
       "      <th>Confirm your Destination City</th>\n",
       "    </tr>\n",
       "  </thead>\n",
       "  <tbody>\n",
       "    <tr>\n",
       "      <th>0</th>\n",
       "      <td>East London</td>\n",
       "    </tr>\n",
       "    <tr>\n",
       "      <th>1</th>\n",
       "      <td>Long Banga</td>\n",
       "    </tr>\n",
       "    <tr>\n",
       "      <th>2</th>\n",
       "      <td>Long Seridan</td>\n",
       "    </tr>\n",
       "    <tr>\n",
       "      <th>3</th>\n",
       "      <td>Longview</td>\n",
       "    </tr>\n",
       "    <tr>\n",
       "      <th>4</th>\n",
       "      <td>Longyan</td>\n",
       "    </tr>\n",
       "    <tr>\n",
       "      <th>5</th>\n",
       "      <td>Lonorore</td>\n",
       "    </tr>\n",
       "    <tr>\n",
       "      <th>6</th>\n",
       "      <td>Londrina</td>\n",
       "    </tr>\n",
       "    <tr>\n",
       "      <th>7</th>\n",
       "      <td>Long Beach</td>\n",
       "    </tr>\n",
       "    <tr>\n",
       "      <th>8</th>\n",
       "      <td>London</td>\n",
       "    </tr>\n",
       "    <tr>\n",
       "      <th>9</th>\n",
       "      <td>Longreach</td>\n",
       "    </tr>\n",
       "    <tr>\n",
       "      <th>10</th>\n",
       "      <td>Long Akah</td>\n",
       "    </tr>\n",
       "    <tr>\n",
       "      <th>11</th>\n",
       "      <td>Londonderry</td>\n",
       "    </tr>\n",
       "    <tr>\n",
       "      <th>12</th>\n",
       "      <td>Long Datih</td>\n",
       "    </tr>\n",
       "    <tr>\n",
       "      <th>13</th>\n",
       "      <td>Londolovit</td>\n",
       "    </tr>\n",
       "    <tr>\n",
       "      <th>14</th>\n",
       "      <td>Longana</td>\n",
       "    </tr>\n",
       "  </tbody>\n",
       "</table>"
      ],
      "text/plain": [
       "<IPython.core.display.HTML object>"
      ]
     },
     "metadata": {},
     "output_type": "display_data"
    },
    {
     "name": "stdout",
     "output_type": "stream",
     "text": [
      "Confirm the number of your Departure City: 8\n",
      "\n",
      "Here are your Search Results\n"
     ]
    },
    {
     "data": {
      "text/html": [
       "<table border=\"1\" class=\"dataframe\">\n",
       "  <thead>\n",
       "    <tr style=\"text-align: right;\">\n",
       "      <th>Airline</th>\n",
       "      <th>Departure</th>\n",
       "      <th>Arrival</th>\n",
       "    </tr>\n",
       "  </thead>\n",
       "  <tbody>\n",
       "    <tr>\n",
       "      <td>American Airlines</td>\n",
       "      <td>GLA</td>\n",
       "      <td>LHR</td>\n",
       "    </tr>\n",
       "    <tr>\n",
       "      <td>British Airways</td>\n",
       "      <td>GLA</td>\n",
       "      <td>LCY</td>\n",
       "    </tr>\n",
       "    <tr>\n",
       "      <td>British Airways</td>\n",
       "      <td>GLA</td>\n",
       "      <td>LGW</td>\n",
       "    </tr>\n",
       "    <tr>\n",
       "      <td>British Airways</td>\n",
       "      <td>GLA</td>\n",
       "      <td>LHR</td>\n",
       "    </tr>\n",
       "    <tr>\n",
       "      <td>Iberia Airlines</td>\n",
       "      <td>GLA</td>\n",
       "      <td>LHR</td>\n",
       "    </tr>\n",
       "    <tr>\n",
       "      <td>easyJet</td>\n",
       "      <td>GLA</td>\n",
       "      <td>LGW</td>\n",
       "    </tr>\n",
       "    <tr>\n",
       "      <td>easyJet</td>\n",
       "      <td>GLA</td>\n",
       "      <td>LTN</td>\n",
       "    </tr>\n",
       "    <tr>\n",
       "      <td>easyJet</td>\n",
       "      <td>GLA</td>\n",
       "      <td>STN</td>\n",
       "    </tr>\n",
       "  </tbody>\n",
       "</table>"
      ],
      "text/plain": [
       "<IPython.core.display.HTML object>"
      ]
     },
     "metadata": {},
     "output_type": "display_data"
    }
   ],
   "source": [
    "dep = input(\"Please Enter Departure City: \")\n",
    "dep = suggest(dep)\n",
    "fancy_print(pd.DataFrame(dep,columns=[\"Confirm your Departure City\"]),True)\n",
    "dep2 = input(\"Confirm the number of your Departure City: \")\n",
    "dep = dep[int(dep2)]\n",
    "print('''\n",
    "\n",
    "''')\n",
    "\n",
    "dest = input(\"Please Enter Destination City: \")\n",
    "dest = suggest(dest)\n",
    "fancy_print(pd.DataFrame(dest,columns=[\"Confirm your Destination City\"]),True)\n",
    "dest2 = input(\"Confirm the number of your Departure City: \")\n",
    "dest = dest[int(dest2)]\n",
    "\n",
    "print()\n",
    "print(\"Here are your Search Results\")\n",
    "fancy_search(dep,dest)"
   ]
  },
  {
   "cell_type": "code",
   "execution_count": null,
   "metadata": {
    "collapsed": true
   },
   "outputs": [],
   "source": []
  }
 ],
 "metadata": {
  "anaconda-cloud": {},
  "kernelspec": {
   "display_name": "Python 3",
   "language": "python",
   "name": "python3"
  },
  "language_info": {
   "codemirror_mode": {
    "name": "ipython",
    "version": 3
   },
   "file_extension": ".py",
   "mimetype": "text/x-python",
   "name": "python",
   "nbconvert_exporter": "python",
   "pygments_lexer": "ipython3",
   "version": "3.6.4"
  }
 },
 "nbformat": 4,
 "nbformat_minor": 1
}
